{
 "cells": [
  {
   "cell_type": "code",
   "execution_count": 1,
   "metadata": {},
   "outputs": [],
   "source": [
    "import numpy as np\n",
    "import ipywidgets as widgets\n",
    "\n",
    "import matplotlib.pyplot as plt\n",
    "\n",
    "from scipy import misc\n",
    "from scipy import fftpack\n",
    "\n",
    "img_side = 257\n",
    "\n",
    "from scipy import signal\n",
    "\n",
    "def simple_simulation(distance, brightness, noise_level, kernel_side):\n",
    "    sim_img = np.zeros((img_side, img_side), dtype=np.float)\n",
    "    sim_img[img_side//2, img_side//2] = 1.0 * brightness\n",
    "    sim_img[img_side//2, img_side//2 + int(distance*(img_side/2))] = 1.0 * brightness * 0.2\n",
    "    t = np.linspace(-kernel_side//2, kernel_side//2, kernel_side+1)\n",
    "    bump = np.exp( -( (10.0/kernel_side) * t)**2)\n",
    "    bump /= np.trapz(bump)\n",
    "    kernel = bump[:, np.newaxis] * bump[np.newaxis, :]\n",
    "    sim_img_c = signal.fftconvolve(sim_img, kernel[:, :], mode='same')\n",
    "    \n",
    "    sim_img_c = sim_img_c + 0.005 * noise_level * np.random.random(sim_img.shape)    \n",
    "    return sim_img_c\n",
    "\n",
    "def plotting_func(distance, brightness, noise, kernel_side):\n",
    "    sim_img = simple_simulation(distance, brightness, noise, kernel_side)    \n",
    "    plt.figure(figsize = (8,8))\n",
    "    plt.imshow(sim_img, cmap=\"hot\")\n",
    "    plt.figure(figsize = (8,8))\n",
    "    plt.imshow(sim_img[3*img_side//8:5*img_side//8,3*img_side//8:5*img_side//8], cmap=\"hot\")\n",
    "\n"
   ]
  },
  {
   "cell_type": "code",
   "execution_count": 2,
   "metadata": {},
   "outputs": [
    {
     "data": {
      "application/vnd.jupyter.widget-view+json": {
       "model_id": "b61b84e4436f4208b124efc3f7e2491a",
       "version_major": 2,
       "version_minor": 0
      },
      "text/plain": [
       "interactive(children=(FloatSlider(value=0.05, description='distance', max=0.1, step=0.01), FloatSlider(value=0…"
      ]
     },
     "metadata": {},
     "output_type": "display_data"
    },
    {
     "data": {
      "text/plain": [
       "<function __main__.plotting_func(distance, brightness, noise, kernel_side)>"
      ]
     },
     "execution_count": 2,
     "metadata": {},
     "output_type": "execute_result"
    }
   ],
   "source": [
    "widgets.interact(plotting_func, distance=(0, 0.1, 0.01), brightness=(0.0, 1.0, 0.05), noise=(0.0, 0.5, 0.01), kernel_side=(10, 100, 10) )"
   ]
  },
  {
   "cell_type": "code",
   "execution_count": null,
   "metadata": {},
   "outputs": [],
   "source": []
  }
 ],
 "metadata": {
  "kernelspec": {
   "display_name": "Python 3",
   "language": "python",
   "name": "python3"
  },
  "language_info": {
   "codemirror_mode": {
    "name": "ipython",
    "version": 3
   },
   "file_extension": ".py",
   "mimetype": "text/x-python",
   "name": "python",
   "nbconvert_exporter": "python",
   "pygments_lexer": "ipython3",
   "version": "3.6.7"
  }
 },
 "nbformat": 4,
 "nbformat_minor": 2
}
